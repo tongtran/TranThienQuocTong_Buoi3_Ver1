{
 "cells": [
  {
   "cell_type": "code",
   "execution_count": null,
   "metadata": {},
   "outputs": [],
   "source": [
    "Bài 1:\n",
    "Classification: Là một phần của học giám sát và dự đoán đầu ra là một biến rời rạc\n",
    "Regressiong: Là một phần của học giám sát và dự đoán đầu ra là một biến liên tục\n",
    "    "
   ]
  },
  {
   "cell_type": "code",
   "execution_count": null,
   "metadata": {},
   "outputs": [],
   "source": [
    "Bài 2\n",
    "Hyperprameter: Là một tham số được thiết lập trước khi train\n",
    "Parameter: Là một tham số được tìm ra sau quá trình train"
   ]
  },
  {
   "cell_type": "code",
   "execution_count": null,
   "metadata": {},
   "outputs": [],
   "source": [
    "Bài 3\n",
    "Nếu dữ liệu có 5 features thì có 5 parameter"
   ]
  },
  {
   "cell_type": "code",
   "execution_count": null,
   "metadata": {},
   "outputs": [],
   "source": [
    "Bài 4\n",
    "Tìm model là tìm hàm số và cụ thể là các paremeter trong hàm số đó"
   ]
  },
  {
   "cell_type": "code",
   "execution_count": null,
   "metadata": {},
   "outputs": [],
   "source": [
    "Bài 5\n",
    "Cách tìm hàm số bằng cách giải phương trình đạo hàm bằng 0 của hàm mất mát"
   ]
  },
  {
   "cell_type": "code",
   "execution_count": null,
   "metadata": {},
   "outputs": [],
   "source": [
    "Bài 6\n",
    "Tập validation dùng để tinh chỉnh các siêu tham số trong quá trình train"
   ]
  },
  {
   "cell_type": "code",
   "execution_count": null,
   "metadata": {},
   "outputs": [],
   "source": [
    "Bài 7\n",
    "Dữ liệu trong một group có những đặc điểm tương đồng nhau"
   ]
  },
  {
   "cell_type": "code",
   "execution_count": null,
   "metadata": {},
   "outputs": [],
   "source": [
    "Bài 8\n",
    "Giảm chiều dữ liệu để tránh nhiễu và giảm độ phức tạp của bài toán"
   ]
  },
  {
   "cell_type": "code",
   "execution_count": null,
   "metadata": {},
   "outputs": [],
   "source": [
    "Bài 9\n",
    "Điều chỉnh hyperparameter để tránh overfiting"
   ]
  },
  {
   "cell_type": "code",
   "execution_count": null,
   "metadata": {},
   "outputs": [],
   "source": [
    "Bài 10\n",
    "Overfitting là hiện tượng trong quá trình train thì đạt hiệu quả dự đoán cao nhưng khi test thì \n",
    "kết quả dự đoán lại thấp\n",
    "Nguyên nhân: Do dữ liệu quá ít trong bài toán phức tạp\n",
    "Cách khắc phục: Tăng số lượng và chất lượng dữ liệu, sử dụng Early Stopping, Regulazation"
   ]
  },
  {
   "cell_type": "code",
   "execution_count": null,
   "metadata": {},
   "outputs": [],
   "source": [
    "Bài 11\n",
    "Underfitting là hiện tượng trong quá trình train thì đạt hiệu quả dự đoán thấp và trong quá trình \n",
    "test cũng có kết quả thấp\n",
    "Cách khắc phục: Thay đổi thuật toán hoặc cải thiện dữ liệu về lượng và chất\n"
   ]
  },
  {
   "cell_type": "code",
   "execution_count": null,
   "metadata": {},
   "outputs": [],
   "source": [
    "Bài 12"
   ]
  },
  {
   "cell_type": "code",
   "execution_count": null,
   "metadata": {},
   "outputs": [],
   "source": [
    "Bài 13\n",
    "Vì khi tăng dữ liệu thì mô hình sẽ được học nhiều lên, giống như ôn được nhiều tài liệu thì khả năng \n",
    "thi với điểm cao sẽ nâng lên. Vậy càng nhiều dữ liệu thì tính tổng quát càng cao, khi dự đoán\n",
    "dữ liệu thực tế sẽ tốt hơn."
   ]
  },
  {
   "cell_type": "code",
   "execution_count": null,
   "metadata": {},
   "outputs": [],
   "source": [
    "Bài 14\n",
    "Tại vì khi mô hình tập trung vào tính ghi nhớ dẫn đến việc dự đoán quá tốt trong tập train mà\n",
    "khi dự đoán thực tế thì có nhiều yếu tốt khác tác động nên việc ghi nhớ quá tốt sẽ dẫn đến hiện tượng\n",
    "overfitting và không có tính tổng quát cao"
   ]
  }
 ],
 "metadata": {
  "kernelspec": {
   "display_name": "Python 3",
   "language": "python",
   "name": "python3"
  },
  "language_info": {
   "codemirror_mode": {
    "name": "ipython",
    "version": 3
   },
   "file_extension": ".py",
   "mimetype": "text/x-python",
   "name": "python",
   "nbconvert_exporter": "python",
   "pygments_lexer": "ipython3",
   "version": "3.7.6"
  }
 },
 "nbformat": 4,
 "nbformat_minor": 4
}
